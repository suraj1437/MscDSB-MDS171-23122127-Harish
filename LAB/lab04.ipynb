{
 "cells": [
  {
   "cell_type": "code",
   "execution_count": 2,
   "metadata": {},
   "outputs": [
    {
     "name": "stdout",
     "output_type": "stream",
     "text": [
      "harish.txt\n"
     ]
    }
   ],
   "source": [
    "Name=input(\"Enter Your Name\")\n",
    "Number=input(\"Enter Your Number\")\n",
    "ItemName=input(\"Enter Item Ordered\")\n",
    "Price=input(\"Enter The price:\")\n",
    "Quantity=input(\"Enter Quantity: \")\n",
    "\n",
    "def CustomerData(Name,Number,item,price,quantity):\n",
    "    filename=Name+ \".txt\"\n",
    "    print(filename)\n",
    "    with open(filename,\"w\") as file:\n",
    "        file.write(\"Welcome \\t:\\t \"+Name)\n",
    "        file.write(\"\\nNumber \\t:\\t\"+Number)\n",
    "        file.write(\"\\nnItem \\t:\\t \\t:\\t\"+item)\n",
    "        file.write(\"\\nnPrice \\t:\\t\"+price)\n",
    "        file.write(\"\\nQuantity \\t:\\t\"+quantity)\n",
    "        Amount=int(price)*int(quantity)\n",
    "        file.write(\"\\nTotal Amount \\t:\\t\"+str(Amount))\n",
    "CustomerData(Name,Number,ItemName,Price,Quantity)        \n",
    "            \n"
   ]
  },
  {
   "cell_type": "code",
   "execution_count": null,
   "metadata": {},
   "outputs": [],
   "source": []
  },
  {
   "cell_type": "code",
   "execution_count": null,
   "metadata": {},
   "outputs": [],
   "source": []
  }
 ],
 "metadata": {
  "kernelspec": {
   "display_name": "Python 3",
   "language": "python",
   "name": "python3"
  },
  "language_info": {
   "codemirror_mode": {
    "name": "ipython",
    "version": 3
   },
   "file_extension": ".py",
   "mimetype": "text/x-python",
   "name": "python",
   "nbconvert_exporter": "python",
   "pygments_lexer": "ipython3",
   "version": "3.11.4"
  },
  "orig_nbformat": 4
 },
 "nbformat": 4,
 "nbformat_minor": 2
}
