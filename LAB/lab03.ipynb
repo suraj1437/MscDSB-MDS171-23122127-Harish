{
 "cells": [
  {
   "cell_type": "code",
   "execution_count": 54,
   "metadata": {},
   "outputs": [
    {
     "name": "stdout",
     "output_type": "stream",
     "text": [
      "17\n",
      "999\n",
      "982\n"
     ]
    }
   ],
   "source": [
    "List=[761, 123, 585, 275, 194, 840, 999, 622, 763, 40, 825, 687, 402, 338, 611, 987, 739, 95, 819, 568, 320, 126, 688, 948, 514, 223, 751, 379, 857, 767, 492, 162, 437, 934, 430, 343, 725, 511, 580, 678, 708, 823, 346, 179, 786, 663, 195, 890, 267, 502, 214, 300, 786, 961, 235, 559, 992, 919, 948, 318, 57, 787, 653, 317, 305, 172, 966, 182, 970, 17, 89, 624, 629, 595, 485, 752, 984, 978, 460, 124, 321, 256, 614, 852, 811, 561, 127, 207, 406, 615, 888, 391, 691, 470, 911, 401, 137, 600, 478, 682]\n",
    "\n",
    "def Mean(X):\n",
    "        Sum=0\n",
    "        num=0\n",
    "        for i in X:\n",
    "    \n",
    "         Sum=Sum+i \n",
    "         num=num+1\n",
    "        mean=Sum/count\n",
    "        return mean\n",
    "\n",
    "\n",
    "def Minimum(X):\n",
    "     min=List[0]\n",
    "     for i in X:\n",
    "      if i <min:\n",
    "          min=i\n",
    "     return min \n",
    " \n",
    "\n",
    "def Maximum(X):\n",
    "    maxnum=List[0] \n",
    "    for i in X:\n",
    "        if i>maxnum:\n",
    "            maxnum=i\n",
    "    return maxnum  \n",
    "\n",
    "def Range_List(X):\n",
    "    Range= Maximum(X)-Minimum(X)\n",
    "    return Range\n",
    "\n",
    "print(Minimum(List))\n",
    "print(Maximum(List))\n",
    "print(Range_List(List))\n",
    " \n",
    "     \n",
    "\n",
    "\n",
    "\n",
    "\n",
    "   \n",
    "     \n",
    "\n",
    " \n",
    "\n",
    "  \n",
    "\n",
    "\n",
    "    "
   ]
  },
  {
   "cell_type": "code",
   "execution_count": 29,
   "metadata": {},
   "outputs": [
    {
     "name": "stdout",
     "output_type": "stream",
     "text": [
      "9\n"
     ]
    }
   ],
   "source": [
    "\n",
    "\n"
   ]
  },
  {
   "cell_type": "code",
   "execution_count": null,
   "metadata": {},
   "outputs": [],
   "source": []
  }
 ],
 "metadata": {
  "kernelspec": {
   "display_name": "Python 3",
   "language": "python",
   "name": "python3"
  },
  "language_info": {
   "codemirror_mode": {
    "name": "ipython",
    "version": 3
   },
   "file_extension": ".py",
   "mimetype": "text/x-python",
   "name": "python",
   "nbconvert_exporter": "python",
   "pygments_lexer": "ipython3",
   "version": "3.11.4"
  },
  "orig_nbformat": 4
 },
 "nbformat": 4,
 "nbformat_minor": 2
}
