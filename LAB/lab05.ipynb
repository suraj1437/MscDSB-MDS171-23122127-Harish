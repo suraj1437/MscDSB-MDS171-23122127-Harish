{
 "cells": [
  {
   "cell_type": "code",
   "execution_count": 29,
   "metadata": {},
   "outputs": [
    {
     "name": "stdout",
     "output_type": "stream",
     "text": [
      "Entered String Is : harish kiu8mar patha\n",
      "Total Vowel Are : 7\n",
      "A Occurs : 4\n",
      "E Occurs : 0\n",
      "I Occurs : 2\n",
      "O Occurs : 0\n",
      "U Occurs : 1\n",
      "Vowel Percentage In The Given String Is : 35.0\n"
     ]
    }
   ],
   "source": [
    "\n",
    "# Taking User input\n",
    "Name=input(\"Enter A String Name : \\n\").lower()\n",
    "print(\"Entered String Is :\",Name)\n",
    "#creating a function to check vowels\n",
    "def vowelCount(text):\n",
    "    Wordlength=int(len(Name))\n",
    "    counta=0\n",
    "    counte=0\n",
    "    counti=0\n",
    "    counto=0\n",
    "    countu=0\n",
    "    #using for loop to check vowel in the string\n",
    "\n",
    "    for element in Name:\n",
    "        if \"a\" in element:\n",
    "            counta=counta+1      \n",
    "    \n",
    "        elif \"e\" in element:\n",
    "            counte=counte+1  \n",
    "        \n",
    "        elif \"i\" in element:\n",
    "            counti=counti+1\n",
    "        \n",
    "        elif \"o\" in element:\n",
    "            counto=counto+1 \n",
    "        \n",
    "        elif \"u\" in element:\n",
    "            countu=countu+1 \n",
    "    Total=int(counta)+int(counte)+int(counti)+int(counto)+int(countu)\n",
    "    # printing count of total and each vowels\n",
    "    print(\"Total Vowel Are :\",Total)\n",
    "    print(\"A Occurs :\",counta)\n",
    "    print(\"E Occurs :\",counte)\n",
    "    print(\"I Occurs :\",counti)\n",
    "    print(\"O Occurs :\",counto)\n",
    "    print(\"U Occurs :\",countu) \n",
    "    #using percentage formula to calculate total percentage og vowels in the string\n",
    "    Percentage=(int(Total)/Wordlength)*100\n",
    "    print(\"Vowel Percentage In The Given String Is :\",Percentage)\n",
    "vowelCount(Name)\n",
    "     \n",
    "\n",
    "    \n",
    "         \n",
    "\n"
   ]
  },
  {
   "cell_type": "code",
   "execution_count": null,
   "metadata": {},
   "outputs": [],
   "source": []
  },
  {
   "cell_type": "code",
   "execution_count": null,
   "metadata": {},
   "outputs": [],
   "source": []
  }
 ],
 "metadata": {
  "kernelspec": {
   "display_name": "Python 3",
   "language": "python",
   "name": "python3"
  },
  "language_info": {
   "codemirror_mode": {
    "name": "ipython",
    "version": 3
   },
   "file_extension": ".py",
   "mimetype": "text/x-python",
   "name": "python",
   "nbconvert_exporter": "python",
   "pygments_lexer": "ipython3",
   "version": "3.11.4"
  },
  "orig_nbformat": 4
 },
 "nbformat": 4,
 "nbformat_minor": 2
}
