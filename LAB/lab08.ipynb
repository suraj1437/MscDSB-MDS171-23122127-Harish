{
 "cells": [
  {
   "cell_type": "code",
   "execution_count": 1,
   "metadata": {},
   "outputs": [
    {
     "name": "stdout",
     "output_type": "stream",
     "text": [
      "Size of Stack: 4\n",
      "Top Item: 1\n",
      "Items in the Stack:\n",
      "1\n",
      "7\n",
      "8\n",
      "4\n",
      "Popped Item: 1\n",
      "Popped Item: 7\n",
      "Size of Stack: 2\n",
      "Top Item: 8\n",
      "Items in the Stack:\n",
      "8\n",
      "4\n",
      "Is Stack Empty? False\n",
      "Popped Item: 8\n",
      "Popped Item: 4\n",
      "Size of Stack: 0\n",
      "Top Item: None\n",
      "Is Stack Empty? True\n"
     ]
    }
   ],
   "source": [
    "class Stack:\n",
    "    def __init__(self):\n",
    "        self.items = []\n",
    "    \n",
    "    def push(self, item):\n",
    "        self.items.append(item)\n",
    "    \n",
    "    def pop(self):\n",
    "        if not self.is_empty():\n",
    "            return self.items.pop()\n",
    "    \n",
    "    def print_stack(self):\n",
    "        for item in reversed(self.items):\n",
    "            print(item)\n",
    "    \n",
    "    def size(self):\n",
    "        return len(self.items)\n",
    "    \n",
    "    def top(self):\n",
    "        if not self.is_empty():\n",
    "            return self.items[-1]\n",
    "    \n",
    "    def is_empty(self):\n",
    "        return len(self.items) == 0\n",
    "\n",
    "# Testing the Stack class\n",
    "stack = Stack()\n",
    "\n",
    "stack.push(4)\n",
    "stack.push(8)\n",
    "stack.push(7)\n",
    "stack.push(1)\n",
    "print(\"Size of Stack:\", stack.size())\n",
    "print(\"Top Item:\", stack.top())\n",
    "\n",
    "print(\"Items in the Stack:\")\n",
    "stack.print_stack()\n",
    "\n",
    "print(\"Popped Item:\", stack.pop())\n",
    "print(\"Popped Item:\", stack.pop())\n",
    "\n",
    "print(\"Size of Stack:\", stack.size())\n",
    "print(\"Top Item:\", stack.top())\n",
    "\n",
    "print(\"Items in the Stack:\")\n",
    "stack.print_stack()\n",
    "\n",
    "print(\"Is Stack Empty?\", stack.is_empty())\n",
    "\n",
    "print(\"Popped Item:\", stack.pop())\n",
    "print(\"Popped Item:\", stack.pop())\n",
    "\n",
    "print(\"Size of Stack:\", stack.size())\n",
    "print(\"Top Item:\", stack.top())\n",
    "\n",
    "print(\"Is Stack Empty?\", stack.is_empty())"
   ]
  },
  {
   "cell_type": "code",
   "execution_count": null,
   "metadata": {},
   "outputs": [],
   "source": []
  }
 ],
 "metadata": {
  "kernelspec": {
   "display_name": "Python 3",
   "language": "python",
   "name": "python3"
  },
  "language_info": {
   "codemirror_mode": {
    "name": "ipython",
    "version": 3
   },
   "file_extension": ".py",
   "mimetype": "text/x-python",
   "name": "python",
   "nbconvert_exporter": "python",
   "pygments_lexer": "ipython3",
   "version": "3.12.0"
  },
  "orig_nbformat": 4
 },
 "nbformat": 4,
 "nbformat_minor": 2
}
