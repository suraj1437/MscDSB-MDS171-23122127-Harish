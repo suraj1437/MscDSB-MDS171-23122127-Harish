{
 "cells": [
  {
   "cell_type": "code",
   "execution_count": 12,
   "metadata": {},
   "outputs": [
    {
     "name": "stdout",
     "output_type": "stream",
     "text": [
      "47FourSeven\n"
     ]
    }
   ],
   "source": [
    "number = [ \"Zero\",\"One\",\"Two\",\"Three\",\"Four\",\"Five\",\"Six\",\"Seven\",\"Eight\",\"Nine\",]\n",
    "user = int(input(\"Enter the Number: \"))\n",
    "\n",
    "def to_help_alice(number, user):\n",
    "    str_user = str(user)\n",
    "    new_value = \"\"\n",
    "    for i in str_user:\n",
    "        digit = int(i)\n",
    "        new_value = new_value + number[digit]\n",
    "    return new_value\n",
    "\n",
    "\n",
    "result = to_help_alice(number, user)\n",
    "print(f\"{user}{result}\")"
   ]
  }
 ],
 "metadata": {
  "kernelspec": {
   "display_name": "Python 3",
   "language": "python",
   "name": "python3"
  },
  "language_info": {
   "codemirror_mode": {
    "name": "ipython",
    "version": 3
   },
   "file_extension": ".py",
   "mimetype": "text/x-python",
   "name": "python",
   "nbconvert_exporter": "python",
   "pygments_lexer": "ipython3",
   "version": "3.11.4"
  },
  "orig_nbformat": 4
 },
 "nbformat": 4,
 "nbformat_minor": 2
}
